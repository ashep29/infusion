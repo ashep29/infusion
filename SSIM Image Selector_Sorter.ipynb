{
 "cells": [
  {
   "cell_type": "markdown",
   "metadata": {},
   "source": [
    "# SSIM Image Selector/Sorter"
   ]
  },
  {
   "cell_type": "raw",
   "metadata": {},
   "source": [
    "Author: Andrew Shepley \n",
    "Contact: asheple2@une.edu.au (alternative email: andreashepley01@gmail.com)\n",
    "Source: Location Invariance\n",
    "Purpose:\n",
    "a) sort dataset of images based on SSIM score"
   ]
  },
  {
   "cell_type": "code",
   "execution_count": null,
   "metadata": {},
   "outputs": [],
   "source": [
    "from skimage import measure\n",
    "import matplotlib.pyplot as plt\n",
    "import numpy as np\n",
    "import cv2\n",
    "import os\n",
    "import shutil"
   ]
  },
  {
   "cell_type": "code",
   "execution_count": null,
   "metadata": {
    "scrolled": false
   },
   "outputs": [],
   "source": [
    "#set this to dataset directory\n",
    "dataset = './Demo/SSIM/unsorted/'\n",
    "\n",
    "#set this to image extension\n",
    "extension = \".jpg\"\n",
    "#if you want verbose output, set this to true\n",
    "verbose = True\n",
    "\n",
    "#SSIM threshold. A lower thresold (<0.7) will retain less images. A threshold closer to 1.0 will retain more images. \n",
    "#Images with an SSIM value of 1.0 are identical.\n",
    "threshold = 0.7\n",
    "\n",
    "#if you want to move all the unique images to a separate directory, set this to True\n",
    "moveFiles = True\n",
    "#if you set moveFiles to True, provide a name for your new directory\n",
    "uniqueImPath = './Demo/SSIM/unique/'\n",
    "\n",
    "\n",
    "datasetDirectory = os.fsencode(dataset)\n",
    "unique = []\n",
    "notUnique = []\n",
    "\n",
    "for eachImage in os.listdir(dataset):\n",
    "    imageName = os.fsdecode(eachImage)\n",
    "    imagePath = os.path.join(os.fsdecode(datasetDirectory), imageName)\n",
    "    if imageName.endswith(extension) and eachImage not in unique and eachImage not in notUnique:\n",
    "        for eachOtherImage in os.listdir(dataset):\n",
    "            if verbose == True:\n",
    "                print(\"comparing: \", eachImage, \" against \", eachOtherImage)\n",
    "            if eachImage != eachOtherImage and eachOtherImage not in unique and eachOtherImage not in notUnique:\n",
    "                otherImageName = os.fsdecode(eachOtherImage)\n",
    "                otherImagePath = os.path.join(os.fsdecode(datasetDirectory), otherImageName)\n",
    "                if otherImageName.endswith(extension):\n",
    "                    imageA = cv2.imread(imagePath)\n",
    "                    imageB = cv2.imread(otherImagePath)\n",
    "                    if imageA.shape == imageB.shape:\n",
    "                        score = measure.compare_ssim(imageA, imageB,multichannel=True)\n",
    "                        if score > threshold:\n",
    "                            notUnique.append(eachImage)\n",
    "                            if verbose == True:\n",
    "                                print(eachImage, \"similar to \", eachOtherImage, \" with SSIM score: \", score)\n",
    "                            break\n",
    "    if eachImage not in notUnique:\n",
    "        unique.append(eachImage)\n",
    "        if verbose == True:\n",
    "            print(eachImage, \" unique\")\n",
    "        \n",
    "if verbose == True:             \n",
    "    print(\"Unique \", unique)\n",
    "    print(\"Not unique \",notUnique)\n",
    "    \n",
    "#all unique images are moved from the 'unsorted' dataset to the 'unique' datasets. The remaining images are left in the 'unsorted' dataset\n",
    "if moveFiles == True:\n",
    "    for eachImage in unique:\n",
    "        imPath = dataset+'/'+eachImage\n",
    "        uniqueImagesPath = uniqueImPath+'/'+eachImage\n",
    "        if os.path.exists(imPath):\n",
    "            shutil.move(imPath, uniqueImagesPath)\n",
    "    print(\"All unique images moved from \", dataset, \" to \", uniqueImPath)"
   ]
  }
 ],
 "metadata": {
  "kernelspec": {
   "display_name": "Python 3",
   "language": "python",
   "name": "python3"
  },
  "language_info": {
   "codemirror_mode": {
    "name": "ipython",
    "version": 3
   },
   "file_extension": ".py",
   "mimetype": "text/x-python",
   "name": "python",
   "nbconvert_exporter": "python",
   "pygments_lexer": "ipython3",
   "version": "3.6.8"
  }
 },
 "nbformat": 4,
 "nbformat_minor": 2
}
