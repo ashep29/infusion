{
 "cells": [
  {
   "cell_type": "markdown",
   "metadata": {},
   "source": [
    "# Location Invariance/U-Infuse: Run Inference\n"
   ]
  },
  {
   "cell_type": "raw",
   "metadata": {},
   "source": [
    "Author: Andrew Shepley \n",
    "Contact: asheple2@une.edu.au (alternative email: andreashepley01@gmail.com) \n",
    "Source: Location Invariance/U-Infuse \n",
    "Purpose: \n",
    "(a) demonstrate the use of the FiN and/or infusion models on test set"
   ]
  },
  {
   "cell_type": "code",
   "execution_count": null,
   "metadata": {},
   "outputs": [],
   "source": [
    "from scripts.inference import *\n",
    "from scripts.preprocessing import *\n",
    "\n",
    "%matplotlib inline\n",
    "%load_ext autoreload\n",
    "%autoreload 2\n",
    "\n",
    "# use this environment flag to change which GPU to use\n",
    "os.environ[\"CUDA_VISIBLE_DEVICES\"] = \"0\""
   ]
  },
  {
   "cell_type": "code",
   "execution_count": null,
   "metadata": {},
   "outputs": [],
   "source": [
    "#show which models/snapshots are available\n",
    "model_dir = './all_snapshots/'\n",
    "print(get_all_files(model_dir, 'h5'))"
   ]
  },
  {
   "cell_type": "code",
   "execution_count": null,
   "metadata": {},
   "outputs": [],
   "source": [
    "#choose the model you want to use\n",
    "chosen_model = 'FiN_rhino.h5'\n",
    "#choose your test directory\n",
    "inference_dir = './Demo/SS_rhino_subset/'\n",
    "#choose your confidence threshold\n",
    "user_selected_confidence = 30"
   ]
  },
  {
   "cell_type": "code",
   "execution_count": null,
   "metadata": {},
   "outputs": [],
   "source": [
    "#load the model \n",
    "model = choose_inference_model(model_dir, chosen_model)\n",
    "class_mapping_file = os.path.join(model_dir,chosen_model[:-2]+\"csv\")\n",
    "confidence_threshold = set_confidence_threshold(user_selected_confidence) "
   ]
  },
  {
   "cell_type": "code",
   "execution_count": null,
   "metadata": {
    "scrolled": false
   },
   "outputs": [],
   "source": [
    "inference_images = generate_list_of_images(inference_dir) \n",
    "\n",
    "for each_im in inference_images:\n",
    "    processed_image, object_detection_data = inference_per_image(inference_dir, model, each_im, class_mapping_file, confidence_threshold)\n",
    "\n",
    "    #displays images\n",
    "    print(object_detection_data)\n",
    "    img = Image.fromarray(processed_image, 'RGB')\n",
    "    plt.figure(figsize=(15, 15))\n",
    "    plt.axis('off')\n",
    "    plt.imshow(img)\n",
    "    plt.show()"
   ]
  }
 ],
 "metadata": {
  "kernelspec": {
   "display_name": "Python 3",
   "language": "python",
   "name": "python3"
  },
  "language_info": {
   "codemirror_mode": {
    "name": "ipython",
    "version": 3
   },
   "file_extension": ".py",
   "mimetype": "text/x-python",
   "name": "python",
   "nbconvert_exporter": "python",
   "pygments_lexer": "ipython3",
   "version": "3.6.8"
  }
 },
 "nbformat": 4,
 "nbformat_minor": 2
}
