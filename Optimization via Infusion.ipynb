{
 "cells": [
  {
   "cell_type": "markdown",
   "metadata": {},
   "source": [
    "# Infusion Optimization\n"
   ]
  },
  {
   "cell_type": "raw",
   "metadata": {},
   "source": [
    "Author: Andrew Shepley \n",
    "Contact: asheple2@une.edu.au (alternative email: andreashepley01@gmail.com)\n",
    "Source: Location Invariance \n",
    "Purpose: \n",
    "(a) demonstrates infusion at various thresholds"
   ]
  },
  {
   "cell_type": "code",
   "execution_count": null,
   "metadata": {},
   "outputs": [],
   "source": [
    "#import relevant modules\n",
    "from scripts.preprocessing import *\n",
    "from scripts.train_main import *\n",
    "from scripts.infusion import *\n",
    "import shutil\n",
    "import os"
   ]
  },
  {
   "cell_type": "code",
   "execution_count": null,
   "metadata": {},
   "outputs": [],
   "source": [
    "#choose infusion splits\n",
    "infusion_splits = [0.05,0.10,0.15,0.20]\n",
    "\n",
    "#choose infusion images\n",
    "infusion_source = 'CC_pig'\n",
    "#choose base FiN dataset\n",
    "FiN_dataset = 'FiN_pig'\n",
    "#choose class\n",
    "chosen_classes = {'pig'}\n",
    "#use negative samples in training(True) or not(False)\n",
    "use_negatives = True\n",
    "negative_folders = ['negatives']"
   ]
  },
  {
   "cell_type": "code",
   "execution_count": null,
   "metadata": {},
   "outputs": [],
   "source": [
    "#trap dataset/annotations used for infusion\n",
    "infusion_dataset = './datasets/'+infusion_source+'/'\n",
    "infusion_annotations = './annotations/'+infusion_source+'/'\n",
    "training_dataset = './datasets/'+FiN_dataset+'/'\n",
    "\n",
    "all_infusion_images = []\n",
    "for each_image in os.listdir(infusion_dataset):\n",
    "    all_infusion_images.append(each_image)\n",
    "print(\"Number of available infusion images: \",len(all_infusion_images))\n",
    "infusion_images = set()"
   ]
  },
  {
   "cell_type": "code",
   "execution_count": null,
   "metadata": {},
   "outputs": [],
   "source": [
    "#train a model for each infusion percentile\n",
    "for infusion_split in infusion_splits:\n",
    "    print(\"------------------------------------------------------------------------------------\")\n",
    "    separate_infusion(infusion_split, all_infusion_images, infusion_dataset, infusion_annotations, training_dataset,infusion_images)\n",
    "    chosen_datasets = ['infusion'] \n",
    "    chosen_datasets.append(FiN_dataset)\n",
    "    generate_training_scripts(chosen_datasets, chosen_classes, use_negatives, negative_folders) \n",
    "    print(\"Commencing training...\")\n",
    "    \n",
    "    #choose training parameters\n",
    "    pretrained_model = 'pretrained_COCO.h5'\n",
    "    batch_size = 8\n",
    "    num_epochs = 30\n",
    "    #prepare training input\n",
    "    PRETRAINED_MODEL, BATCH_SIZE, STEPS, EPOCHS = set_training_parameters(pretrained_model, batch_size, num_epochs)\n",
    "    #default\n",
    "    SNAPSHOTS = './snapshots/'\n",
    "    TRAINING = 'training.csv'\n",
    "    VALIDATION = 'validation.csv'\n",
    "    CLASSES = 'classes.csv'\n",
    "    os.environ[\"CUDA_VISIBLE_DEVICES\"] = \"0\"\n",
    "    \n",
    "    !python3 /homes/une/ashepley/keras-retinanet/keras_retinanet/bin/train.py --freeze-backbone --snapshot-path {SNAPSHOTS} --weights {PRETRAINED_MODEL} --random-transform --batch-size {BATCH_SIZE} --steps {STEPS} --epochs {EPOCHS} csv {TRAINING} {CLASSES}  --val-annotations {VALIDATION}\n",
    "    \n",
    "    #rename the training, validation and snapshots files/dir to preserve them\n",
    "    os.rename('./snapshots', './snapshots'+str(infusion_split)) \n",
    "    os.rename('./training.csv', './training'+str(infusion_split)+'.csv')\n",
    "    os.rename('./validation.csv', './validation'+str(infusion_split)+'.csv')"
   ]
  }
 ],
 "metadata": {
  "kernelspec": {
   "display_name": "Python 3",
   "language": "python",
   "name": "python3"
  },
  "language_info": {
   "codemirror_mode": {
    "name": "ipython",
    "version": 3
   },
   "file_extension": ".py",
   "mimetype": "text/x-python",
   "name": "python",
   "nbconvert_exporter": "python",
   "pygments_lexer": "ipython3",
   "version": "3.6.8"
  }
 },
 "nbformat": 4,
 "nbformat_minor": 2
}
