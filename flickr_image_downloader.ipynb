{
 "cells": [
  {
   "cell_type": "markdown",
   "id": "ae3c6612",
   "metadata": {},
   "source": [
    "* Author: Andrew Shepley\n",
    "* Contact: asheple2@une.edu.au (alternate contact: andreashepley01@gmail.com)\n",
    "* Source: Infusion\n",
    "* Purpose: Download bulk images from Flickr"
   ]
  },
  {
   "cell_type": "code",
   "execution_count": 12,
   "id": "702fa15e",
   "metadata": {},
   "outputs": [],
   "source": [
    "import flickrapi\n",
    "import urllib.request\n",
    "from PIL import Image\n",
    "from tqdm.notebook import tqdm\n",
    "from time import sleep\n",
    "from ipywidgets import IntProgress"
   ]
  },
  {
   "cell_type": "code",
   "execution_count": 13,
   "id": "955da2aa",
   "metadata": {},
   "outputs": [],
   "source": [
    "save_dir = './datasets/insect/'\n",
    "images_per_page=100"
   ]
  },
  {
   "cell_type": "code",
   "execution_count": 14,
   "id": "9b7d04e8",
   "metadata": {},
   "outputs": [],
   "source": [
    "# Flickr api access key \n",
    "flickr=flickrapi.FlickrAPI('06d409dab8199e68b5c0848d540b7aa0', 'c0d231f5f2576cca', cache=True)"
   ]
  },
  {
   "cell_type": "code",
   "execution_count": 15,
   "id": "4bcb6990",
   "metadata": {},
   "outputs": [],
   "source": [
    "keywords=['Wasmannia auropunctata','Solenopsis geminata','Tetramorium bicarinatum']"
   ]
  },
  {
   "cell_type": "code",
   "execution_count": 16,
   "id": "c482be35",
   "metadata": {},
   "outputs": [
    {
     "name": "stdout",
     "output_type": "stream",
     "text": [
      "keyword: Wasmannia auropunctata\n"
     ]
    },
    {
     "data": {
      "application/vnd.jupyter.widget-view+json": {
       "model_id": "a848c12a4e3f4f6ab8ff819961596059",
       "version_major": 2,
       "version_minor": 0
      },
      "text/plain": [
       "  0%|          | 0/6 [00:00<?, ?it/s]"
      ]
     },
     "metadata": {},
     "output_type": "display_data"
    },
    {
     "name": "stdout",
     "output_type": "stream",
     "text": [
      "keyword: Solenopsis geminata\n"
     ]
    },
    {
     "data": {
      "application/vnd.jupyter.widget-view+json": {
       "model_id": "ddd66f06e8b446518141adc24654ddfd",
       "version_major": 2,
       "version_minor": 0
      },
      "text/plain": [
       "  0%|          | 0/6 [00:00<?, ?it/s]"
      ]
     },
     "metadata": {},
     "output_type": "display_data"
    },
    {
     "name": "stdout",
     "output_type": "stream",
     "text": [
      "keyword: Tetramorium bicarinatum\n"
     ]
    },
    {
     "data": {
      "application/vnd.jupyter.widget-view+json": {
       "model_id": "a38df5c1c710472ca0ae923bdcbf4f6f",
       "version_major": 2,
       "version_minor": 0
      },
      "text/plain": [
       "  0%|          | 0/3 [00:00<?, ?it/s]"
      ]
     },
     "metadata": {},
     "output_type": "display_data"
    }
   ],
   "source": [
    "for keyword in keywords:\n",
    "    photos = flickr.walk(text=keyword,tag_mode='all',tags=keyword,extras='url_c',per_page=images_per_page,sort='relevance')\n",
    "    urls = []\n",
    "    for i, photo in enumerate(photos):   \n",
    "        url = photo.get('url_c')\n",
    "        urls.append(url)\n",
    "\n",
    "        #i is number of images per search term\n",
    "        if i > images_per_page:\n",
    "            break\n",
    "\n",
    "    #for i, eachImage in enumerate(urls):  \n",
    "    i=0\n",
    "    print(\"keyword:\",keyword)\n",
    "    for eachImage in tqdm(urls): \n",
    "        filename = save_dir+str(i)+keyword+\".jpg\"\n",
    "        if not urls[i] is None:\n",
    "            #urllib.urlretrieve(urls[i], filename)\n",
    "            urllib.request.urlretrieve(urls[i], filename)\n",
    "            try:\n",
    "                image = Image.open(filename) \n",
    "                image.save(filename)\n",
    "            except:\n",
    "                print(\"error: \", filename)\n",
    "        i=i+1\n",
    "        sleep(1)"
   ]
  },
  {
   "cell_type": "code",
   "execution_count": null,
   "id": "5a7afd68",
   "metadata": {},
   "outputs": [],
   "source": []
  }
 ],
 "metadata": {
  "kernelspec": {
   "display_name": "Python 3 (ipykernel)",
   "language": "python",
   "name": "python3"
  },
  "language_info": {
   "codemirror_mode": {
    "name": "ipython",
    "version": 3
   },
   "file_extension": ".py",
   "mimetype": "text/x-python",
   "name": "python",
   "nbconvert_exporter": "python",
   "pygments_lexer": "ipython3",
   "version": "3.9.7"
  }
 },
 "nbformat": 4,
 "nbformat_minor": 5
}
